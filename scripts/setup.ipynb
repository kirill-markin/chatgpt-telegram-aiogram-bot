{
 "cells": [
  {
   "cell_type": "code",
   "execution_count": 13,
   "metadata": {},
   "outputs": [],
   "source": [
    "import psycopg2\n",
    "from urllib.parse import urlparse\n",
    "import os\n",
    "from dotenv import load_dotenv"
   ]
  },
  {
   "cell_type": "code",
   "execution_count": 14,
   "metadata": {},
   "outputs": [
    {
     "data": {
      "text/plain": [
       "True"
      ]
     },
     "execution_count": 14,
     "metadata": {},
     "output_type": "execute_result"
    }
   ],
   "source": [
    "# Load environment variables from .env file\n",
    "load_dotenv(dotenv_path='../app/.env')"
   ]
  },
  {
   "cell_type": "code",
   "execution_count": 15,
   "metadata": {},
   "outputs": [],
   "source": [
    "# Get the database URL from the environment variables\n",
    "database_url = os.getenv('DATABASE_URL')\n",
    "\n",
    "# Parse the database URL\n",
    "parsed_url = urlparse(database_url)\n",
    "dbname = parsed_url.path[1:]  # Remove leading slash\n",
    "user = parsed_url.username\n",
    "password = parsed_url.password\n",
    "host = parsed_url.hostname\n",
    "port = parsed_url.port\n",
    "\n",
    "# Establishing the connection to the database\n",
    "conn = psycopg2.connect(\n",
    "    dbname=dbname, \n",
    "    user=user, \n",
    "    password=password, \n",
    "    host=host, \n",
    "    port=port\n",
    ")\n",
    "\n",
    "# Creating a cursor to perform database operations\n",
    "cursor = conn.cursor()"
   ]
  },
  {
   "cell_type": "code",
   "execution_count": 16,
   "metadata": {},
   "outputs": [
    {
     "name": "stdout",
     "output_type": "stream",
     "text": [
      "Tables in the database:\n",
      "config\n",
      "Structure of table config:\n",
      "  id: integer\n",
      "  temperature: double precision\n",
      "  gpt_model: character varying\n",
      "  prompt_assistant: character varying\n",
      "\n",
      "\n",
      "users\n",
      "Structure of table users:\n",
      "  id: integer\n",
      "  is_allowed: boolean\n",
      "  tokens_used: integer\n",
      "  username: character varying\n",
      "  role: character varying\n",
      "  custom_api_key: character varying\n",
      "\n",
      "\n",
      "messages\n",
      "Structure of table messages:\n",
      "  id: integer\n",
      "  timestamp: timestamp with time zone\n",
      "  chat_id: character varying\n",
      "  username: character varying\n",
      "  role: character varying\n",
      "  content: character varying\n",
      "\n",
      "\n"
     ]
    }
   ],
   "source": [
    "# Retrieving the list of all tables in the database\n",
    "cursor.execute(\"SELECT table_name FROM information_schema.tables WHERE table_schema = 'public'\")\n",
    "tables = cursor.fetchall()\n",
    "\n",
    "print(\"Tables in the database:\")\n",
    "for table in tables:\n",
    "    print(table[0])\n",
    "\n",
    "    # Retrieving the structure of a specific table\n",
    "    cursor.execute(f\"SELECT column_name, data_type FROM information_schema.columns WHERE table_name = '{table[0]}'\")\n",
    "    columns = cursor.fetchall()\n",
    "    \n",
    "    print(f\"Structure of table {table[0]}:\")\n",
    "    for col in columns:\n",
    "        print(f\"  {col[0]}: {col[1]}\")\n",
    "    print(\"\\n\")"
   ]
  },
  {
   "cell_type": "code",
   "execution_count": 17,
   "metadata": {},
   "outputs": [],
   "source": [
    "# Closing the cursor and the connection\n",
    "cursor.close()\n",
    "conn.close()"
   ]
  },
  {
   "cell_type": "code",
   "execution_count": null,
   "metadata": {},
   "outputs": [],
   "source": []
  }
 ],
 "metadata": {
  "kernelspec": {
   "display_name": "Python 3",
   "language": "python",
   "name": "python3"
  },
  "language_info": {
   "codemirror_mode": {
    "name": "ipython",
    "version": 3
   },
   "file_extension": ".py",
   "mimetype": "text/x-python",
   "name": "python",
   "nbconvert_exporter": "python",
   "pygments_lexer": "ipython3",
   "version": "3.11.5"
  }
 },
 "nbformat": 4,
 "nbformat_minor": 2
}
